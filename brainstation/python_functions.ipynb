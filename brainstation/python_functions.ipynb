{
 "cells": [
  {
   "cell_type": "markdown",
   "id": "9f889fbb-a2cd-4a72-a2cd-4bcaaeddd8ee",
   "metadata": {
    "slideshow": {
     "slide_type": "slide"
    },
    "tags": []
   },
   "source": [
    "# Python Functions\n",
    "### - Tim Frazer"
   ]
  },
  {
   "cell_type": "markdown",
   "id": "12d7bf25-5cdb-4a6c-b518-d045f390c6f0",
   "metadata": {
    "slideshow": {
     "slide_type": "slide"
    },
    "tags": []
   },
   "source": [
    "## “Clean code always looks like it was written by someone who cares.”\n",
    "### Robert C. Martin aka \"Uncle bob\"\n"
   ]
  },
  {
   "cell_type": "markdown",
   "id": "6cafe0e0-b0cc-41f1-b3c9-034e4ac8a13e",
   "metadata": {
    "slideshow": {
     "slide_type": "slide"
    },
    "tags": []
   },
   "source": [
    "# Learning Objectives\n",
    " \n",
    "* How functions work in Python, and why you would use them\n",
    "* How to create and call your own functions in Python\n",
    "* What are function arguments and why you use them\n",
    "* How to return data from your function\n",
    "* Bring it all together to read a file, change it and then output to a new file with your changes."
   ]
  },
  {
   "cell_type": "markdown",
   "id": "f7615635-42cf-4b39-8b9b-75c3f500c24b",
   "metadata": {
    "slideshow": {
     "slide_type": "slide"
    },
    "tags": []
   },
   "source": [
    "A **function** is a self-contained block of code that holds a specific task or group of tasks.\n",
    "Pretty much anything with parentheses **()** is a function in python. \n",
    "For example;"
   ]
  },
  {
   "cell_type": "code",
   "execution_count": 39,
   "id": "60f7eadb-5263-4582-8c04-ef95cbc6bf1a",
   "metadata": {
    "slideshow": {
     "slide_type": "slide"
    },
    "tags": []
   },
   "outputs": [
    {
     "name": "stdout",
     "output_type": "stream",
     "text": [
      "123\n"
     ]
    }
   ],
   "source": [
    "thing = \"123\"\n",
    "len(thing) # length of an object/thing\n",
    "int(thing) # convert thing to an integer\n",
    "print(thing) # print message to standard output"
   ]
  },
  {
   "cell_type": "markdown",
   "id": "37613735-3135-47b4-9593-6684b93df0a4",
   "metadata": {
    "slideshow": {
     "slide_type": "slide"
    },
    "tags": []
   },
   "source": [
    "# To use a function, you only need to know how to call it\n",
    "\n",
    "* What arguments if any does it take any\n",
    "* What values if any does it return\n",
    "\n",
    "# Making a function call\n",
    "\n",
    "* Give it argument values\n",
    "* Function does it's routines/tasks \n",
    "* Program returns to where the function was called\n",
    "* Use data returned if any"
   ]
  },
  {
   "cell_type": "markdown",
   "id": "2b5f2f45-c4d0-4d82-bd01-d1f5ccf8790f",
   "metadata": {
    "slideshow": {
     "slide_type": "slide"
    },
    "tags": []
   },
   "source": [
    "# Writing a function\n",
    "* You figure out how it performs its task - maybe take an input do a thing!\n",
    "\n",
    "### Call your function\n",
    "* Just like calling any function\n",
    "    * argument values\n",
    "    * function does its task\n",
    "    * program returns to where the function was called\n",
    "    * use if any returned data"
   ]
  },
  {
   "cell_type": "markdown",
   "id": "c89487b5-ae2b-4f2a-90ec-6136e0ae91a0",
   "metadata": {
    "slideshow": {
     "slide_type": "slide"
    },
    "tags": []
   },
   "source": [
    "# The Value Of Python Functions\n",
    "Nearly every programming language supports user-written functions.\n",
    "* Subroutines\n",
    "* Procedures\n",
    "* Methods\n",
    "* Subprograms\n",
    "* Functions\n",
    "\n",
    "**But why?**"
   ]
  },
  {
   "cell_type": "code",
   "execution_count": 13,
   "id": "d6b4dfc1-6eb3-4397-a1ab-8ee65fc67c8d",
   "metadata": {
    "slideshow": {
     "slide_type": "slide"
    },
    "tags": []
   },
   "outputs": [
    {
     "name": "stdout",
     "output_type": "stream",
     "text": [
      "Hello from a function\n"
     ]
    }
   ],
   "source": [
    "print(\"Hello from a function\") # taking a string as an argument"
   ]
  },
  {
   "cell_type": "markdown",
   "id": "6d22bdb1-727d-4802-bb8f-72b1304c3f69",
   "metadata": {
    "slideshow": {
     "slide_type": "slide"
    },
    "tags": []
   },
   "source": [
    "# Abstraction and Reusability\n",
    "You’ve written a section of useful code  ( might even use again!)\n",
    "\n",
    "How do you reuse your code blocks without functions?\n",
    "* __copy & paste__\n",
    "    * names might be in use -> this causes all kinds of problems\n",
    "    * want to make a change, well now youll need to make changes all over your code\n",
    "\n",
    "## So you should define a function to do that task!\n",
    "* Now it only needs to change once.\n",
    "* Provide proper argument values each time its used.\n",
    "* Abstraction of Functionality (Don’t Repeat Yourself)"
   ]
  },
  {
   "cell_type": "markdown",
   "id": "b1ffd24a-8bbd-4d3e-af53-ee1911f4fda4",
   "metadata": {
    "slideshow": {
     "slide_type": "slide"
    },
    "tags": []
   },
   "source": [
    "# Modular\n",
    "Functions allow a complex process to be broken into smaller steps.\n",
    "This is called **Decomposition**\n",
    "\n",
    "```python\n",
    "# Code to read file in\n",
    "<statement>\n",
    "<statement>\n",
    "<statement>\n",
    "# Code to process file\n",
    "<statement>\n",
    "<statement>\n",
    "<statement>\n",
    "# Code to write file out\n",
    "<statement>\n",
    "<statement>\n",
    "<statement>\n",
    "```"
   ]
  },
  {
   "cell_type": "markdown",
   "id": "a982098e-a310-4c4c-a212-2e21be6ca019",
   "metadata": {
    "slideshow": {
     "slide_type": "slide"
    },
    "tags": []
   },
   "source": [
    "## Now let's break this down into functions\n",
    "```python\n",
    "\n",
    "def read_file():\n",
    "# Code to read file in\n",
    "<statement>\n",
    "<statement>\n",
    "<statement>\n",
    "\n",
    "def process_file():\n",
    "# Code to process file\n",
    "<statement>\n",
    "<statement>\n",
    "<statement>\n",
    "\n",
    "def write_file():\n",
    "# Code to write file out\n",
    "<statement>\n",
    "<statement>\n",
    "<statement>\n",
    "\n",
    "# call functions\n",
    "read_file()\n",
    "process_file()\n",
    "write_file()\n",
    "```"
   ]
  },
  {
   "cell_type": "markdown",
   "id": "0a234d2c-1ca6-4737-bea2-a57c1ccb35b6",
   "metadata": {
    "slideshow": {
     "slide_type": "slide"
    },
    "tags": []
   },
   "source": [
    "---------------\n",
    "# Calling or invoking a function\n",
    "\n",
    "`<function>(<[arguments]>)`\n",
    "\n",
    "for example,\n",
    "\n",
    "`print(\"Hello!\")`\n",
    "\n",
    "`Hello!`"
   ]
  },
  {
   "cell_type": "markdown",
   "id": "d00437d5-afa5-4f80-87bd-022944c95e95",
   "metadata": {
    "slideshow": {
     "slide_type": "slide"
    },
    "tags": []
   },
   "source": [
    "# Calling and creating a function \n",
    "`def <function>([<parameters>]):\n",
    "<statements>`\n",
    "* `def` is a Python keyword that indicates that you are about to crewate a function\n",
    "* `<function>`  is your identiftier that names the function\n",
    "* `<parameters>` optional,  comma-serperated list of parameters to be passed to the function\n",
    "* `:` denotes the end of the function header\n",
    "* `<statements>` is a block of Python statements that make up the function"
   ]
  },
  {
   "cell_type": "code",
   "execution_count": 21,
   "id": "7b40c83a-5f0f-48c2-9b26-12a5e64aee01",
   "metadata": {
    "slideshow": {
     "slide_type": "slide"
    },
    "tags": []
   },
   "outputs": [
    {
     "name": "stdout",
     "output_type": "stream",
     "text": [
      "Before func() is called\n",
      "-- Inside func() --\n",
      "After func() is called\n"
     ]
    }
   ],
   "source": [
    "# Example\n",
    "def func():\n",
    "    s ='-- Inside func() --'\n",
    "    print(s)\n",
    "print('Before func() is called')\n",
    "func()\n",
    "print('After func() is called')\n"
   ]
  },
  {
   "cell_type": "markdown",
   "id": "61fef502-07c1-4a2e-924a-708fa612dca1",
   "metadata": {
    "slideshow": {
     "slide_type": "slide"
    },
    "tags": []
   },
   "source": [
    "# Real world example\n",
    "Let's create a small program and reads a file and then print's the contents to the screen\n"
   ]
  },
  {
   "cell_type": "code",
   "execution_count": 32,
   "id": "35eedcce-29c0-4eae-9cc1-5432b85d69cb",
   "metadata": {
    "slideshow": {
     "slide_type": "slide"
    },
    "tags": []
   },
   "outputs": [
    {
     "name": "stdout",
     "output_type": "stream",
     "text": [
      "id,name,quantity\n",
      "\n",
      "1,human-resource,659\n",
      "\n",
      "2,Face to face,278\n",
      "\n"
     ]
    }
   ],
   "source": [
    "file = open(\"mock_data.csv\", \"r\")\n",
    "print(file.readline())\n",
    "print(file.readline())\n",
    "print(file.readline())\n",
    "# now this is pretty slow"
   ]
  },
  {
   "cell_type": "code",
   "execution_count": 37,
   "id": "63e45745-d246-456f-a386-97ff86e0f03d",
   "metadata": {
    "slideshow": {
     "slide_type": "slide"
    },
    "tags": []
   },
   "outputs": [
    {
     "name": "stdout",
     "output_type": "stream",
     "text": [
      "id,name,quantity\n",
      "\n",
      "1,human-resource,659\n",
      "\n",
      "2,Face to face,278\n",
      "\n",
      "3,monitoring,842\n",
      "\n",
      "4,Balanced,379\n",
      "\n",
      "5,moderator,50\n",
      "\n",
      "6,utilisation,453\n",
      "\n",
      "7,extranet,305\n",
      "\n",
      "8,forecast,463\n",
      "\n",
      "9,reciprocal,618\n",
      "\n",
      "10,concept,601\n",
      "\n"
     ]
    }
   ],
   "source": [
    "# let's create a function that will iterate over all the data inside of a file object\n",
    "file = open(\"mock_data.csv\", \"r\")\n",
    "\n",
    "def print_file(file):\n",
    "    for line in file:\n",
    "        print(line)\n",
    "\n",
    "print_file(file)\n",
    "file.close() # It is a good practice to always close the file when you are done with it.\n"
   ]
  },
  {
   "cell_type": "markdown",
   "id": "4a94488d-8822-4ef1-9209-853a94035581",
   "metadata": {
    "slideshow": {
     "slide_type": "slide"
    },
    "tags": []
   },
   "source": [
    "# Homework\n",
    "1) create a function that opens a file - you should probably using `with open() as file:` pattern\n",
    "2) uppercase the 1st character for example `moderator` becomes `Moderator`\n",
    "3) save the file with the new content to disk and call it `your_name_functions.csv`\n"
   ]
  },
  {
   "cell_type": "markdown",
   "id": "23edb9d1-29f7-4306-9620-7f44068e85f3",
   "metadata": {
    "slideshow": {
     "slide_type": "slide"
    },
    "tags": []
   },
   "source": [
    "# resources\n",
    "\n",
    "https://www.w3schools.com/python/ref_string_capitalize.asp\n",
    "\n",
    "https://realpython.com/working-with-files-in-python/\n",
    "\n",
    "https://realpython.com/lessons/why-use-functions/"
   ]
  },
  {
   "cell_type": "code",
   "execution_count": null,
   "id": "6a5299eb-9ca8-47fa-bfce-5f91045d1bae",
   "metadata": {},
   "outputs": [],
   "source": []
  }
 ],
 "metadata": {
  "kernelspec": {
   "display_name": "Python 3 (ipykernel)",
   "language": "python",
   "name": "python3"
  },
  "language_info": {
   "codemirror_mode": {
    "name": "ipython",
    "version": 3
   },
   "file_extension": ".py",
   "mimetype": "text/x-python",
   "name": "python",
   "nbconvert_exporter": "python",
   "pygments_lexer": "ipython3",
   "version": "3.9.5"
  }
 },
 "nbformat": 4,
 "nbformat_minor": 5
}
